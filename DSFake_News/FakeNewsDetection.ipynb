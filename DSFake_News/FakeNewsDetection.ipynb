{
 "cells": [
  {
   "cell_type": "markdown",
   "source": [
    "## Welcome"
   ],
   "metadata": {
    "collapsed": false
   },
   "id": "b755d843cb149c27"
  },
  {
   "cell_type": "code",
   "execution_count": 1,
   "id": "initial_id",
   "metadata": {
    "collapsed": true,
    "ExecuteTime": {
     "end_time": "2023-09-19T02:36:01.683723Z",
     "start_time": "2023-09-19T02:36:01.669108Z"
    }
   },
   "outputs": [],
   "source": [
    "# Welcome to my venture into fake news detection using Python"
   ]
  },
  {
   "cell_type": "code",
   "execution_count": 2,
   "outputs": [],
   "source": [
    "import numpy as np\n",
    "import pandas as pd\n",
    "from sklearn.model_selection import train_test_split, cross_val_score\n",
    "from sklearn.feature_extraction.text import TfidfVectorizer, ENGLISH_STOP_WORDS\n",
    "from sklearn.linear_model import PassiveAggressiveClassifier\n",
    "from sklearn.metrics import accuracy_score, confusion_matrix, classification_report"
   ],
   "metadata": {
    "collapsed": false,
    "ExecuteTime": {
     "end_time": "2023-09-19T02:38:43.800878Z",
     "start_time": "2023-09-19T02:38:13.316057Z"
    }
   },
   "id": "c59d72d59f5fe39f"
  },
  {
   "cell_type": "code",
   "execution_count": 3,
   "outputs": [],
   "source": [
    "# Custom list of stop words\n",
    "custom_stop_words = ['hillary', 'watch', 'kerry', 'bernie', 'battle', 'new', 'york']\n",
    "all_stop_words = list(ENGLISH_STOP_WORDS.union(custom_stop_words)) # Converted to a list."
   ],
   "metadata": {
    "collapsed": false,
    "ExecuteTime": {
     "end_time": "2023-09-19T02:39:02.322005Z",
     "start_time": "2023-09-19T02:39:02.300409Z"
    }
   },
   "id": "d056c0d8d2e9cd54"
  },
  {
   "cell_type": "code",
   "execution_count": 4,
   "outputs": [],
   "source": [
    "# Read the data\n",
    "df = pd.read_csv('/Users/brocktbennett/GitHub/FakeNewsDetection/DSFake_News/news.csv')"
   ],
   "metadata": {
    "collapsed": false,
    "ExecuteTime": {
     "end_time": "2023-09-19T02:39:17.994971Z",
     "start_time": "2023-09-19T02:39:17.238886Z"
    }
   },
   "id": "744a66f0a89d4fd"
  },
  {
   "cell_type": "code",
   "execution_count": 5,
   "outputs": [],
   "source": [
    "# Drop unnecessary columns\n",
    "df.drop(['Unnamed: 0'], axis=1, inplace=True)"
   ],
   "metadata": {
    "collapsed": false,
    "ExecuteTime": {
     "end_time": "2023-09-19T02:39:29.559189Z",
     "start_time": "2023-09-19T02:39:29.537950Z"
    }
   },
   "id": "abbc5214f5ceb2bd"
  },
  {
   "cell_type": "code",
   "execution_count": 6,
   "outputs": [
    {
     "name": "stdout",
     "output_type": "stream",
     "text": [
      "Shape of the dataset: (6335, 3)\n",
      "\n",
      "First 5 records:\n",
      "                                                title  \\\n",
      "0                       You Can Smell Hillary’s Fear   \n",
      "1  Watch The Exact Moment Paul Ryan Committed Pol...   \n",
      "2        Kerry to go to Paris in gesture of sympathy   \n",
      "3  Bernie supporters on Twitter erupt in anger ag...   \n",
      "4   The Battle of New York: Why This Primary Matters   \n",
      "\n",
      "                                                text label  \n",
      "0  Daniel Greenfield, a Shillman Journalism Fello...  FAKE  \n",
      "1  Google Pinterest Digg Linkedin Reddit Stumbleu...  FAKE  \n",
      "2  U.S. Secretary of State John F. Kerry said Mon...  REAL  \n",
      "3  — Kaydee King (@KaydeeKing) November 9, 2016 T...  FAKE  \n",
      "4  It's primary day in New York and front-runners...  REAL  \n",
      "\n",
      "Label Distribution:\n",
      " REAL    3171\n",
      "FAKE    3164\n",
      "Name: label, dtype: int64\n",
      "\n",
      "Checking for missing values:\n",
      " title    0\n",
      "text     0\n",
      "label    0\n",
      "dtype: int64\n"
     ]
    }
   ],
   "source": [
    "# Data Exploration\n",
    "print(\"Shape of the dataset:\", df.shape)\n",
    "print(\"\\nFirst 5 records:\\n\", df.head())\n",
    "print(\"\\nLabel Distribution:\\n\", df['label'].value_counts())\n",
    "print(\"\\nChecking for missing values:\\n\", df.isnull().sum())"
   ],
   "metadata": {
    "collapsed": false,
    "ExecuteTime": {
     "end_time": "2023-09-19T02:39:41.538204Z",
     "start_time": "2023-09-19T02:39:41.504819Z"
    }
   },
   "id": "77bae3c311d3056c"
  },
  {
   "cell_type": "code",
   "execution_count": 7,
   "outputs": [
    {
     "name": "stdout",
     "output_type": "stream",
     "text": [
      "\n",
      "Removed stop words from record 0: {'been', 'at', 'about', 'such', 'new', 'up', 'of', 'than', 'never', 'with', 'whose', 'last', 'her', 'else', 'now', 'whether', 'by', 'or', 'ever', 'why', 'through', 'down', 'into', 'how', 'were', 'on', 'the', 'he', 'she', 'be', 'over', 'often', 'in', 'while', 'is', 'him', 'have', 'much', 'and', 'may', 'if', 'had', 'but', 'even', 'against', 'no', 'an', 'same', 'its', 'it', 'from', 'own', 'too', 'where', 'under', 'out', 'all', 'well', 'for', 'throughout', 'here', 'whatever', 'off', 'was', 'around', 'being', 'when', 'who', 'as', 'are', 'has', 'would', 'your', 'that', 'only', 'other', 'whole', 'can', 'two', 'one', 'this', 'you', 'do', 'what', 'might', 'most', 'everyone', 'could', 'also', 'go', 'us', 'them', 'to', 'his', 'not', 'any', 'during', 'anywhere', 'enough', 'so', 'they', 'then', 'front', 'a', 'still', 'back', 'after', 'between', 'already', 'more', 'without', 'will', 'their', 'nothing'}\n",
      "\n",
      "Removed stop words from record 1: {'he', 'before', 'every', 'very', 'own', 'be', 'many', 'at', 'about', 'where', 'behind', 'all', 'in', 'them', 'to', 'from', 'for', 'his', 'is', 'up', 'of', 'never', 'becoming', 'with', 'last', 'which', 'not', 'done', 'any', 'seemed', 'himself', 'when', 'by', 'who', 'him', 'or', 'have', 'as', 'ever', 'and', 'those', 'via', 'are', 'keep', 'then', 'has', 'would', 'through', 'until', 'once', 'that', 'had', 'a', 'down', 'back', 'an', 'two', 'their', 'into', 'how', 'made', 'after', 'one', 'were', 'few', 'this', 'already', 'on', 'it', 'will', 'what', 'the', 'nobody', 'was'}\n",
      "\n",
      "Removed stop words from record 2: {'he', 'own', 'could', 'be', 'many', 'at', 'about', 'in', 'top', 'to', 'for', 'his', 'is', 'of', 'not', 'with', 'any', 'himself', 'next', 'some', 'by', 'who', 'have', 'our', 'as', 'and', 'nor', 'why', 'beside', 'then', 'has', 'through', 'am', 'that', 'had', 'but', 'a', 'the', 'against', 'no', 'other', 'can', 'how', 'we', 'after', 'were', 'this', 'on', 'neither', 'its', 'it', 'more', 'there', 'will', 'what', 'because', 'was'}\n",
      "\n",
      "Removed stop words from record 3: {'before', 'could', 'be', 'been', 'too', 'many', 'at', 'about', 'among', 'behind', 'in', 'top', 'to', 'from', 'for', 'his', 'is', 'than', 'of', 'less', 'up', 'with', 'which', 'during', 'anywhere', 'by', 'who', 'him', 'have', 'so', 'and', 'almost', 'they', 'has', 'that', 'had', 'only', 'a', 'against', 'back', 'an', 'their', 'same', 'one', 'this', 'between', 'on', 'the', 'was', 'most'}\n",
      "\n",
      "Removed stop words from record 4: {'he', 'could', 'also', 'be', 'about', 'out', 'all', 'in', 'to', 'his', 'from', 'put', 'while', 'is', 'up', 'of', 'than', 'for', 'with', 'last', 'nine', 'enough', 'now', 'both', 'by', 'him', 'have', 'and', 'those', 'are', 'would', 'each', 'if', 'only', 'a', 'down', 'other', 'watch', 'can', 'two', 'their', 'how', 'we', 'one', 'this', 'eight', 'you', 'on', 'more', 'the'}\n"
     ]
    }
   ],
   "source": [
    "# Displaying words removed from the first 5 records\n",
    "for index, row in df.head().iterrows():\n",
    "    original_words = set(row['text'].split())\n",
    "    words_after_stop_words = original_words.difference(all_stop_words)\n",
    "    removed_words = original_words.difference(words_after_stop_words)\n",
    "    print(f\"\\nRemoved stop words from record {index}: {removed_words}\")"
   ],
   "metadata": {
    "collapsed": false,
    "ExecuteTime": {
     "end_time": "2023-09-19T02:40:08.161619Z",
     "start_time": "2023-09-19T02:40:08.131883Z"
    }
   },
   "id": "cc680782df5f23d6"
  },
  {
   "cell_type": "code",
   "execution_count": 8,
   "outputs": [],
   "source": [
    "# Get the labels\n",
    "labels = df.label"
   ],
   "metadata": {
    "collapsed": false,
    "ExecuteTime": {
     "end_time": "2023-09-19T02:40:20.040892Z",
     "start_time": "2023-09-19T02:40:20.013056Z"
    }
   },
   "id": "85cafe5ddd682cd"
  },
  {
   "cell_type": "code",
   "execution_count": 9,
   "outputs": [],
   "source": [
    "# Split the dataset\n",
    "x_train, x_test, y_train, y_test = train_test_split(df['text'], labels, test_size=0.2, random_state=7)"
   ],
   "metadata": {
    "collapsed": false,
    "ExecuteTime": {
     "end_time": "2023-09-19T02:40:38.109374Z",
     "start_time": "2023-09-19T02:40:38.085683Z"
    }
   },
   "id": "ad9ff703f57b7f4d"
  },
  {
   "cell_type": "code",
   "execution_count": null,
   "outputs": [],
   "source": [],
   "metadata": {
    "collapsed": false
   },
   "id": "f90438b48aeeb508"
  }
 ],
 "metadata": {
  "kernelspec": {
   "display_name": "Python 3",
   "language": "python",
   "name": "python3"
  },
  "language_info": {
   "codemirror_mode": {
    "name": "ipython",
    "version": 2
   },
   "file_extension": ".py",
   "mimetype": "text/x-python",
   "name": "python",
   "nbconvert_exporter": "python",
   "pygments_lexer": "ipython2",
   "version": "2.7.6"
  }
 },
 "nbformat": 4,
 "nbformat_minor": 5
}
